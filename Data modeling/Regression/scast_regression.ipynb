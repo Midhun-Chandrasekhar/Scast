{
  "nbformat": 4,
  "nbformat_minor": 0,
  "metadata": {
    "colab": {
      "provenance": [],
      "collapsed_sections": []
    },
    "kernelspec": {
      "name": "python3",
      "display_name": "Python 3"
    },
    "language_info": {
      "name": "python"
    }
  },
  "cells": [
    {
      "cell_type": "markdown",
      "source": [
        "# **Regression Model**"
      ],
      "metadata": {
        "id": "dv_5aHevDDKE"
      }
    },
    {
      "cell_type": "markdown",
      "source": [
        "package import"
      ],
      "metadata": {
        "id": "m1n8IYHBDJ0e"
      }
    },
    {
      "cell_type": "code",
      "execution_count": 3,
      "metadata": {
        "id": "XlSj26RyCIUB"
      },
      "outputs": [],
      "source": [
        "import pandas as pd\n",
        "import numpy as np\n",
        "\n",
        "import matplotlib.pyplot as plt\n",
        "import seaborn as sns\n",
        "\n",
        "from sklearn.preprocessing import MinMaxScaler\n",
        "from sklearn.linear_model import LinearRegression\n",
        "from sklearn.metrics import mean_squared_error, mean_absolute_error, r2_score\n",
        "from sklearn.ensemble import RandomForestRegressor\n",
        "from xgboost.sklearn import XGBRegressor\n",
        "\n",
        "import keras\n",
        "from keras.layers import Dense\n",
        "from keras.models import Sequential\n",
        "from tensorflow.keras.optimizers import Adam\n",
        "from keras.callbacks import EarlyStopping\n",
        "from keras.utils import np_utils\n",
        "from keras.layers import LSTM\n",
        "from sklearn.model_selection import KFold, cross_val_score, train_test_split\n",
        "\n",
        "import pickle"
      ]
    },
    {
      "cell_type": "markdown",
      "source": [
        "Data import"
      ],
      "metadata": {
        "id": "_s9ZD8RtD3i8"
      }
    },
    {
      "cell_type": "code",
      "source": [
        "from google.colab import files\n",
        "upload = files.upload()\n"
      ],
      "metadata": {
        "colab": {
          "base_uri": "https://localhost:8080/",
          "height": 74
        },
        "id": "VjkT0rvLDROv",
        "outputId": "b65ffe11-cd90-4668-f603-0ac46c7b808b"
      },
      "execution_count": 4,
      "outputs": [
        {
          "output_type": "display_data",
          "data": {
            "text/plain": [
              "<IPython.core.display.HTML object>"
            ],
            "text/html": [
              "\n",
              "     <input type=\"file\" id=\"files-63e694c0-bd23-4966-9f08-a9ee8394fd1f\" name=\"files[]\" multiple disabled\n",
              "        style=\"border:none\" />\n",
              "     <output id=\"result-63e694c0-bd23-4966-9f08-a9ee8394fd1f\">\n",
              "      Upload widget is only available when the cell has been executed in the\n",
              "      current browser session. Please rerun this cell to enable.\n",
              "      </output>\n",
              "      <script>// Copyright 2017 Google LLC\n",
              "//\n",
              "// Licensed under the Apache License, Version 2.0 (the \"License\");\n",
              "// you may not use this file except in compliance with the License.\n",
              "// You may obtain a copy of the License at\n",
              "//\n",
              "//      http://www.apache.org/licenses/LICENSE-2.0\n",
              "//\n",
              "// Unless required by applicable law or agreed to in writing, software\n",
              "// distributed under the License is distributed on an \"AS IS\" BASIS,\n",
              "// WITHOUT WARRANTIES OR CONDITIONS OF ANY KIND, either express or implied.\n",
              "// See the License for the specific language governing permissions and\n",
              "// limitations under the License.\n",
              "\n",
              "/**\n",
              " * @fileoverview Helpers for google.colab Python module.\n",
              " */\n",
              "(function(scope) {\n",
              "function span(text, styleAttributes = {}) {\n",
              "  const element = document.createElement('span');\n",
              "  element.textContent = text;\n",
              "  for (const key of Object.keys(styleAttributes)) {\n",
              "    element.style[key] = styleAttributes[key];\n",
              "  }\n",
              "  return element;\n",
              "}\n",
              "\n",
              "// Max number of bytes which will be uploaded at a time.\n",
              "const MAX_PAYLOAD_SIZE = 100 * 1024;\n",
              "\n",
              "function _uploadFiles(inputId, outputId) {\n",
              "  const steps = uploadFilesStep(inputId, outputId);\n",
              "  const outputElement = document.getElementById(outputId);\n",
              "  // Cache steps on the outputElement to make it available for the next call\n",
              "  // to uploadFilesContinue from Python.\n",
              "  outputElement.steps = steps;\n",
              "\n",
              "  return _uploadFilesContinue(outputId);\n",
              "}\n",
              "\n",
              "// This is roughly an async generator (not supported in the browser yet),\n",
              "// where there are multiple asynchronous steps and the Python side is going\n",
              "// to poll for completion of each step.\n",
              "// This uses a Promise to block the python side on completion of each step,\n",
              "// then passes the result of the previous step as the input to the next step.\n",
              "function _uploadFilesContinue(outputId) {\n",
              "  const outputElement = document.getElementById(outputId);\n",
              "  const steps = outputElement.steps;\n",
              "\n",
              "  const next = steps.next(outputElement.lastPromiseValue);\n",
              "  return Promise.resolve(next.value.promise).then((value) => {\n",
              "    // Cache the last promise value to make it available to the next\n",
              "    // step of the generator.\n",
              "    outputElement.lastPromiseValue = value;\n",
              "    return next.value.response;\n",
              "  });\n",
              "}\n",
              "\n",
              "/**\n",
              " * Generator function which is called between each async step of the upload\n",
              " * process.\n",
              " * @param {string} inputId Element ID of the input file picker element.\n",
              " * @param {string} outputId Element ID of the output display.\n",
              " * @return {!Iterable<!Object>} Iterable of next steps.\n",
              " */\n",
              "function* uploadFilesStep(inputId, outputId) {\n",
              "  const inputElement = document.getElementById(inputId);\n",
              "  inputElement.disabled = false;\n",
              "\n",
              "  const outputElement = document.getElementById(outputId);\n",
              "  outputElement.innerHTML = '';\n",
              "\n",
              "  const pickedPromise = new Promise((resolve) => {\n",
              "    inputElement.addEventListener('change', (e) => {\n",
              "      resolve(e.target.files);\n",
              "    });\n",
              "  });\n",
              "\n",
              "  const cancel = document.createElement('button');\n",
              "  inputElement.parentElement.appendChild(cancel);\n",
              "  cancel.textContent = 'Cancel upload';\n",
              "  const cancelPromise = new Promise((resolve) => {\n",
              "    cancel.onclick = () => {\n",
              "      resolve(null);\n",
              "    };\n",
              "  });\n",
              "\n",
              "  // Wait for the user to pick the files.\n",
              "  const files = yield {\n",
              "    promise: Promise.race([pickedPromise, cancelPromise]),\n",
              "    response: {\n",
              "      action: 'starting',\n",
              "    }\n",
              "  };\n",
              "\n",
              "  cancel.remove();\n",
              "\n",
              "  // Disable the input element since further picks are not allowed.\n",
              "  inputElement.disabled = true;\n",
              "\n",
              "  if (!files) {\n",
              "    return {\n",
              "      response: {\n",
              "        action: 'complete',\n",
              "      }\n",
              "    };\n",
              "  }\n",
              "\n",
              "  for (const file of files) {\n",
              "    const li = document.createElement('li');\n",
              "    li.append(span(file.name, {fontWeight: 'bold'}));\n",
              "    li.append(span(\n",
              "        `(${file.type || 'n/a'}) - ${file.size} bytes, ` +\n",
              "        `last modified: ${\n",
              "            file.lastModifiedDate ? file.lastModifiedDate.toLocaleDateString() :\n",
              "                                    'n/a'} - `));\n",
              "    const percent = span('0% done');\n",
              "    li.appendChild(percent);\n",
              "\n",
              "    outputElement.appendChild(li);\n",
              "\n",
              "    const fileDataPromise = new Promise((resolve) => {\n",
              "      const reader = new FileReader();\n",
              "      reader.onload = (e) => {\n",
              "        resolve(e.target.result);\n",
              "      };\n",
              "      reader.readAsArrayBuffer(file);\n",
              "    });\n",
              "    // Wait for the data to be ready.\n",
              "    let fileData = yield {\n",
              "      promise: fileDataPromise,\n",
              "      response: {\n",
              "        action: 'continue',\n",
              "      }\n",
              "    };\n",
              "\n",
              "    // Use a chunked sending to avoid message size limits. See b/62115660.\n",
              "    let position = 0;\n",
              "    do {\n",
              "      const length = Math.min(fileData.byteLength - position, MAX_PAYLOAD_SIZE);\n",
              "      const chunk = new Uint8Array(fileData, position, length);\n",
              "      position += length;\n",
              "\n",
              "      const base64 = btoa(String.fromCharCode.apply(null, chunk));\n",
              "      yield {\n",
              "        response: {\n",
              "          action: 'append',\n",
              "          file: file.name,\n",
              "          data: base64,\n",
              "        },\n",
              "      };\n",
              "\n",
              "      let percentDone = fileData.byteLength === 0 ?\n",
              "          100 :\n",
              "          Math.round((position / fileData.byteLength) * 100);\n",
              "      percent.textContent = `${percentDone}% done`;\n",
              "\n",
              "    } while (position < fileData.byteLength);\n",
              "  }\n",
              "\n",
              "  // All done.\n",
              "  yield {\n",
              "    response: {\n",
              "      action: 'complete',\n",
              "    }\n",
              "  };\n",
              "}\n",
              "\n",
              "scope.google = scope.google || {};\n",
              "scope.google.colab = scope.google.colab || {};\n",
              "scope.google.colab._files = {\n",
              "  _uploadFiles,\n",
              "  _uploadFilesContinue,\n",
              "};\n",
              "})(self);\n",
              "</script> "
            ]
          },
          "metadata": {}
        },
        {
          "output_type": "stream",
          "name": "stdout",
          "text": [
            "Saving rm_data.csv to rm_data.csv\n"
          ]
        }
      ]
    },
    {
      "cell_type": "code",
      "source": [
        "rm_data = pd.read_csv('rm_data.csv')"
      ],
      "metadata": {
        "id": "DpcW5oLQD9EP"
      },
      "execution_count": 5,
      "outputs": []
    },
    {
      "cell_type": "markdown",
      "source": [
        "Data test train splitting"
      ],
      "metadata": {
        "id": "5PpwFa39EewS"
      }
    },
    {
      "cell_type": "code",
      "source": [
        "rm_data_backup = rm_data.copy()"
      ],
      "metadata": {
        "id": "U1mevQNlEbF_"
      },
      "execution_count": 6,
      "outputs": []
    },
    {
      "cell_type": "code",
      "source": [
        "rm_data = rm_data.drop(['sales','date'],axis=1)\n",
        "train, test = rm_data[0:-12].values, rm_data[-12:].values"
      ],
      "metadata": {
        "id": "HjjZFC2UEvRv"
      },
      "execution_count": 7,
      "outputs": []
    },
    {
      "cell_type": "code",
      "source": [
        "rm_data.head()"
      ],
      "metadata": {
        "colab": {
          "base_uri": "https://localhost:8080/",
          "height": 270
        },
        "id": "qn53XkJ3E4Nn",
        "outputId": "4c98ce86-8a3b-4916-d7c2-77de27c1cae8"
      },
      "execution_count": 8,
      "outputs": [
        {
          "output_type": "execute_result",
          "data": {
            "text/plain": [
              "   sales_diff     lag_1     lag_2     lag_3     lag_4     lag_5     lag_6  \\\n",
              "0      3130.0   19380.0 -186036.0   36056.0  -33320.0  -76854.0  -89161.0   \n",
              "1    175184.0    3130.0   19380.0 -186036.0   36056.0  -33320.0  -76854.0   \n",
              "2     84613.0  175184.0    3130.0   19380.0 -186036.0   36056.0  -33320.0   \n",
              "3     93963.0   84613.0  175184.0    3130.0   19380.0 -186036.0   36056.0   \n",
              "4     23965.0   93963.0   84613.0  175184.0    3130.0   19380.0 -186036.0   \n",
              "\n",
              "     lag_7    lag_8    lag_9   lag_10    lag_11    lag_12  \n",
              "0  60325.0  32355.0  80968.0  64892.0  157965.0    4513.0  \n",
              "1 -89161.0  60325.0  32355.0  80968.0   64892.0  157965.0  \n",
              "2 -76854.0 -89161.0  60325.0  32355.0   80968.0   64892.0  \n",
              "3 -33320.0 -76854.0 -89161.0  60325.0   32355.0   80968.0  \n",
              "4  36056.0 -33320.0 -76854.0 -89161.0   60325.0   32355.0  "
            ],
            "text/html": [
              "\n",
              "  <div id=\"df-df2a31c4-1e34-4a16-8816-de8e02731061\">\n",
              "    <div class=\"colab-df-container\">\n",
              "      <div>\n",
              "<style scoped>\n",
              "    .dataframe tbody tr th:only-of-type {\n",
              "        vertical-align: middle;\n",
              "    }\n",
              "\n",
              "    .dataframe tbody tr th {\n",
              "        vertical-align: top;\n",
              "    }\n",
              "\n",
              "    .dataframe thead th {\n",
              "        text-align: right;\n",
              "    }\n",
              "</style>\n",
              "<table border=\"1\" class=\"dataframe\">\n",
              "  <thead>\n",
              "    <tr style=\"text-align: right;\">\n",
              "      <th></th>\n",
              "      <th>sales_diff</th>\n",
              "      <th>lag_1</th>\n",
              "      <th>lag_2</th>\n",
              "      <th>lag_3</th>\n",
              "      <th>lag_4</th>\n",
              "      <th>lag_5</th>\n",
              "      <th>lag_6</th>\n",
              "      <th>lag_7</th>\n",
              "      <th>lag_8</th>\n",
              "      <th>lag_9</th>\n",
              "      <th>lag_10</th>\n",
              "      <th>lag_11</th>\n",
              "      <th>lag_12</th>\n",
              "    </tr>\n",
              "  </thead>\n",
              "  <tbody>\n",
              "    <tr>\n",
              "      <th>0</th>\n",
              "      <td>3130.0</td>\n",
              "      <td>19380.0</td>\n",
              "      <td>-186036.0</td>\n",
              "      <td>36056.0</td>\n",
              "      <td>-33320.0</td>\n",
              "      <td>-76854.0</td>\n",
              "      <td>-89161.0</td>\n",
              "      <td>60325.0</td>\n",
              "      <td>32355.0</td>\n",
              "      <td>80968.0</td>\n",
              "      <td>64892.0</td>\n",
              "      <td>157965.0</td>\n",
              "      <td>4513.0</td>\n",
              "    </tr>\n",
              "    <tr>\n",
              "      <th>1</th>\n",
              "      <td>175184.0</td>\n",
              "      <td>3130.0</td>\n",
              "      <td>19380.0</td>\n",
              "      <td>-186036.0</td>\n",
              "      <td>36056.0</td>\n",
              "      <td>-33320.0</td>\n",
              "      <td>-76854.0</td>\n",
              "      <td>-89161.0</td>\n",
              "      <td>60325.0</td>\n",
              "      <td>32355.0</td>\n",
              "      <td>80968.0</td>\n",
              "      <td>64892.0</td>\n",
              "      <td>157965.0</td>\n",
              "    </tr>\n",
              "    <tr>\n",
              "      <th>2</th>\n",
              "      <td>84613.0</td>\n",
              "      <td>175184.0</td>\n",
              "      <td>3130.0</td>\n",
              "      <td>19380.0</td>\n",
              "      <td>-186036.0</td>\n",
              "      <td>36056.0</td>\n",
              "      <td>-33320.0</td>\n",
              "      <td>-76854.0</td>\n",
              "      <td>-89161.0</td>\n",
              "      <td>60325.0</td>\n",
              "      <td>32355.0</td>\n",
              "      <td>80968.0</td>\n",
              "      <td>64892.0</td>\n",
              "    </tr>\n",
              "    <tr>\n",
              "      <th>3</th>\n",
              "      <td>93963.0</td>\n",
              "      <td>84613.0</td>\n",
              "      <td>175184.0</td>\n",
              "      <td>3130.0</td>\n",
              "      <td>19380.0</td>\n",
              "      <td>-186036.0</td>\n",
              "      <td>36056.0</td>\n",
              "      <td>-33320.0</td>\n",
              "      <td>-76854.0</td>\n",
              "      <td>-89161.0</td>\n",
              "      <td>60325.0</td>\n",
              "      <td>32355.0</td>\n",
              "      <td>80968.0</td>\n",
              "    </tr>\n",
              "    <tr>\n",
              "      <th>4</th>\n",
              "      <td>23965.0</td>\n",
              "      <td>93963.0</td>\n",
              "      <td>84613.0</td>\n",
              "      <td>175184.0</td>\n",
              "      <td>3130.0</td>\n",
              "      <td>19380.0</td>\n",
              "      <td>-186036.0</td>\n",
              "      <td>36056.0</td>\n",
              "      <td>-33320.0</td>\n",
              "      <td>-76854.0</td>\n",
              "      <td>-89161.0</td>\n",
              "      <td>60325.0</td>\n",
              "      <td>32355.0</td>\n",
              "    </tr>\n",
              "  </tbody>\n",
              "</table>\n",
              "</div>\n",
              "      <button class=\"colab-df-convert\" onclick=\"convertToInteractive('df-df2a31c4-1e34-4a16-8816-de8e02731061')\"\n",
              "              title=\"Convert this dataframe to an interactive table.\"\n",
              "              style=\"display:none;\">\n",
              "        \n",
              "  <svg xmlns=\"http://www.w3.org/2000/svg\" height=\"24px\"viewBox=\"0 0 24 24\"\n",
              "       width=\"24px\">\n",
              "    <path d=\"M0 0h24v24H0V0z\" fill=\"none\"/>\n",
              "    <path d=\"M18.56 5.44l.94 2.06.94-2.06 2.06-.94-2.06-.94-.94-2.06-.94 2.06-2.06.94zm-11 1L8.5 8.5l.94-2.06 2.06-.94-2.06-.94L8.5 2.5l-.94 2.06-2.06.94zm10 10l.94 2.06.94-2.06 2.06-.94-2.06-.94-.94-2.06-.94 2.06-2.06.94z\"/><path d=\"M17.41 7.96l-1.37-1.37c-.4-.4-.92-.59-1.43-.59-.52 0-1.04.2-1.43.59L10.3 9.45l-7.72 7.72c-.78.78-.78 2.05 0 2.83L4 21.41c.39.39.9.59 1.41.59.51 0 1.02-.2 1.41-.59l7.78-7.78 2.81-2.81c.8-.78.8-2.07 0-2.86zM5.41 20L4 18.59l7.72-7.72 1.47 1.35L5.41 20z\"/>\n",
              "  </svg>\n",
              "      </button>\n",
              "      \n",
              "  <style>\n",
              "    .colab-df-container {\n",
              "      display:flex;\n",
              "      flex-wrap:wrap;\n",
              "      gap: 12px;\n",
              "    }\n",
              "\n",
              "    .colab-df-convert {\n",
              "      background-color: #E8F0FE;\n",
              "      border: none;\n",
              "      border-radius: 50%;\n",
              "      cursor: pointer;\n",
              "      display: none;\n",
              "      fill: #1967D2;\n",
              "      height: 32px;\n",
              "      padding: 0 0 0 0;\n",
              "      width: 32px;\n",
              "    }\n",
              "\n",
              "    .colab-df-convert:hover {\n",
              "      background-color: #E2EBFA;\n",
              "      box-shadow: 0px 1px 2px rgba(60, 64, 67, 0.3), 0px 1px 3px 1px rgba(60, 64, 67, 0.15);\n",
              "      fill: #174EA6;\n",
              "    }\n",
              "\n",
              "    [theme=dark] .colab-df-convert {\n",
              "      background-color: #3B4455;\n",
              "      fill: #D2E3FC;\n",
              "    }\n",
              "\n",
              "    [theme=dark] .colab-df-convert:hover {\n",
              "      background-color: #434B5C;\n",
              "      box-shadow: 0px 1px 3px 1px rgba(0, 0, 0, 0.15);\n",
              "      filter: drop-shadow(0px 1px 2px rgba(0, 0, 0, 0.3));\n",
              "      fill: #FFFFFF;\n",
              "    }\n",
              "  </style>\n",
              "\n",
              "      <script>\n",
              "        const buttonEl =\n",
              "          document.querySelector('#df-df2a31c4-1e34-4a16-8816-de8e02731061 button.colab-df-convert');\n",
              "        buttonEl.style.display =\n",
              "          google.colab.kernel.accessAllowed ? 'block' : 'none';\n",
              "\n",
              "        async function convertToInteractive(key) {\n",
              "          const element = document.querySelector('#df-df2a31c4-1e34-4a16-8816-de8e02731061');\n",
              "          const dataTable =\n",
              "            await google.colab.kernel.invokeFunction('convertToInteractive',\n",
              "                                                     [key], {});\n",
              "          if (!dataTable) return;\n",
              "\n",
              "          const docLinkHtml = 'Like what you see? Visit the ' +\n",
              "            '<a target=\"_blank\" href=https://colab.research.google.com/notebooks/data_table.ipynb>data table notebook</a>'\n",
              "            + ' to learn more about interactive tables.';\n",
              "          element.innerHTML = '';\n",
              "          dataTable['output_type'] = 'display_data';\n",
              "          await google.colab.output.renderOutput(dataTable, element);\n",
              "          const docLink = document.createElement('div');\n",
              "          docLink.innerHTML = docLinkHtml;\n",
              "          element.appendChild(docLink);\n",
              "        }\n",
              "      </script>\n",
              "    </div>\n",
              "  </div>\n",
              "  "
            ]
          },
          "metadata": {},
          "execution_count": 8
        }
      ]
    },
    {
      "cell_type": "code",
      "source": [
        "test_backup = test.copy()"
      ],
      "metadata": {
        "id": "V0qnWlSWHA0n"
      },
      "execution_count": 9,
      "outputs": []
    },
    {
      "cell_type": "code",
      "source": [
        "train_backup = train.copy()"
      ],
      "metadata": {
        "id": "0_NdY2PHHGeN"
      },
      "execution_count": 10,
      "outputs": []
    },
    {
      "cell_type": "code",
      "source": [
        "test.shape, train.shape"
      ],
      "metadata": {
        "colab": {
          "base_uri": "https://localhost:8080/"
        },
        "id": "bOFUlumnE7OW",
        "outputId": "3516fc9b-4473-4eac-8e5f-365e0d4d3f67"
      },
      "execution_count": 11,
      "outputs": [
        {
          "output_type": "execute_result",
          "data": {
            "text/plain": [
              "((12, 13), (35, 13))"
            ]
          },
          "metadata": {},
          "execution_count": 11
        }
      ]
    },
    {
      "cell_type": "markdown",
      "source": [
        "### **Data scaling**"
      ],
      "metadata": {
        "id": "s4C4AAwbFZt7"
      }
    },
    {
      "cell_type": "markdown",
      "source": [
        "Apply Min Max Scaler"
      ],
      "metadata": {
        "id": "gBAumkp5Gaqv"
      }
    },
    {
      "cell_type": "code",
      "source": [
        "scaler = MinMaxScaler(feature_range=(-1, 1))\n",
        "scaler = scaler.fit(train)"
      ],
      "metadata": {
        "id": "CsbgErb6E-Kf"
      },
      "execution_count": 12,
      "outputs": []
    },
    {
      "cell_type": "code",
      "source": [
        "scaler"
      ],
      "metadata": {
        "colab": {
          "base_uri": "https://localhost:8080/"
        },
        "id": "8e3_i22GHRRF",
        "outputId": "29681eb7-5bdd-4c0f-86e8-afeec5c7ec77"
      },
      "execution_count": 13,
      "outputs": [
        {
          "output_type": "execute_result",
          "data": {
            "text/plain": [
              "MinMaxScaler(feature_range=(-1, 1))"
            ]
          },
          "metadata": {},
          "execution_count": 13
        }
      ]
    },
    {
      "cell_type": "markdown",
      "source": [
        "Reshape train data set"
      ],
      "metadata": {
        "id": "TO4qCBkVHehF"
      }
    },
    {
      "cell_type": "code",
      "source": [
        "train = train.reshape(train.shape[0], train.shape[1])\n",
        "scaled_train = scaler.transform(train)"
      ],
      "metadata": {
        "id": "BpdpeP-cHSml"
      },
      "execution_count": 14,
      "outputs": []
    },
    {
      "cell_type": "markdown",
      "source": [
        "Reshape test data set"
      ],
      "metadata": {
        "id": "MXCjl1xmIYr4"
      }
    },
    {
      "cell_type": "code",
      "source": [
        "test = test.reshape(test.shape[0], test.shape[1])\n",
        "scaled_test = scaler.transform(test)"
      ],
      "metadata": {
        "id": "BAryC_rcIWR9"
      },
      "execution_count": 15,
      "outputs": []
    },
    {
      "cell_type": "code",
      "source": [
        "test.shape[0]"
      ],
      "metadata": {
        "colab": {
          "base_uri": "https://localhost:8080/"
        },
        "id": "PWJw1IfMIihG",
        "outputId": "e96eeb50-7383-41fd-8860-26a7950a1f11"
      },
      "execution_count": 16,
      "outputs": [
        {
          "output_type": "execute_result",
          "data": {
            "text/plain": [
              "12"
            ]
          },
          "metadata": {},
          "execution_count": 16
        }
      ]
    },
    {
      "cell_type": "code",
      "source": [
        "test_backup.shape[0]"
      ],
      "metadata": {
        "colab": {
          "base_uri": "https://localhost:8080/"
        },
        "id": "lRbc5G5mIvoF",
        "outputId": "17f292a8-b597-4eb7-8e09-395f56df5d98"
      },
      "execution_count": 17,
      "outputs": [
        {
          "output_type": "execute_result",
          "data": {
            "text/plain": [
              "12"
            ]
          },
          "metadata": {},
          "execution_count": 17
        }
      ]
    },
    {
      "cell_type": "markdown",
      "source": [
        "Model data"
      ],
      "metadata": {
        "id": "pF4Z_TkwJgaE"
      }
    },
    {
      "cell_type": "markdown",
      "source": [
        "Reusable scale function\n",
        "\n"
      ],
      "metadata": {
        "id": "JmpqeQiWNOKF"
      }
    },
    {
      "cell_type": "code",
      "source": [
        "def apply_scale(train_set, test_set):\n",
        "    #Apply Min Max Scaler\n",
        "    scaler = MinMaxScaler(feature_range=(-1, 1))\n",
        "    scaler = scaler.fit(train_set)\n",
        "    \n",
        "    # Reshape training set\n",
        "    train_set = train_set.reshape(train_set.shape[0], train_set.shape[1])\n",
        "    train_set_scaled = scaler.transform(train_set)\n",
        "    \n",
        "    # Reshape test set\n",
        "    test_set = test_set.reshape(test_set.shape[0], test_set.shape[1])\n",
        "    test_set_scaled = scaler.transform(test_set)\n",
        "    \n",
        "    X_train, y_train = train_set_scaled[:, 1:], train_set_scaled[:, 0:1].ravel()\n",
        "    X_test, y_test = test_set_scaled[:, 1:], test_set_scaled[:, 0:1].ravel()\n",
        "    \n",
        "    return X_train, y_train, X_test, y_test, scaler\n"
      ],
      "metadata": {
        "id": "W6SdUG50I0lP"
      },
      "execution_count": 18,
      "outputs": []
    },
    {
      "cell_type": "code",
      "source": [
        "X_train, y_train, X_test, y_test, scaler_object = apply_scale(train, test)"
      ],
      "metadata": {
        "id": "d1q2FwqwM_NB"
      },
      "execution_count": 19,
      "outputs": []
    },
    {
      "cell_type": "code",
      "source": [
        "X_train.shape, y_train.shape"
      ],
      "metadata": {
        "colab": {
          "base_uri": "https://localhost:8080/"
        },
        "id": "S6PqzBrLJy01",
        "outputId": "b250c021-e2ea-4229-8fc6-25a4f614674f"
      },
      "execution_count": 20,
      "outputs": [
        {
          "output_type": "execute_result",
          "data": {
            "text/plain": [
              "((35, 12), (35,))"
            ]
          },
          "metadata": {},
          "execution_count": 20
        }
      ]
    },
    {
      "cell_type": "code",
      "source": [
        "X_test.shape, y_test.shape"
      ],
      "metadata": {
        "colab": {
          "base_uri": "https://localhost:8080/"
        },
        "id": "u7WeO55SJ3zb",
        "outputId": "df8e6f11-5b97-4ae7-dba6-37859448edce"
      },
      "execution_count": 21,
      "outputs": [
        {
          "output_type": "execute_result",
          "data": {
            "text/plain": [
              "((12, 12), (12,))"
            ]
          },
          "metadata": {},
          "execution_count": 21
        }
      ]
    },
    {
      "cell_type": "markdown",
      "source": [
        "Model Functions"
      ],
      "metadata": {
        "id": "kbONllZsNYDE"
      }
    },
    {
      "cell_type": "code",
      "source": [
        "def undo_scale(y_prediction, x_test, scaler_obj, lstm=False):  \n",
        "    # Reshape y_prediction\n",
        "    y_prediction = y_prediction.reshape(y_prediction.shape[0], 1, 1)\n",
        "    \n",
        "    if not lstm:\n",
        "        x_test = x_test.reshape(x_test.shape[0], 1, x_test.shape[1])\n",
        "    \n",
        "    # Rebuild test set for inverse transform\n",
        "    prediction_test = []\n",
        "    for index in range(0,len(y_prediction)):\n",
        "        prediction_test.append(\n",
        "            np.concatenate([y_prediction[index],x_test[index]],axis=1))\n",
        "        \n",
        "    # Reshape prediction_test\n",
        "    prediction_test = np.array(prediction_test)\n",
        "    prediction_test = prediction_test.reshape(\n",
        "        prediction_test.shape[0], prediction_test.shape[2])\n",
        "    \n",
        "    # Inverse transform\n",
        "    prediction_test_inverted = scaler_obj.inverse_transform(prediction_test)\n",
        "    \n",
        "    return prediction_test_inverted"
      ],
      "metadata": {
        "id": "F6AgoCQhJ9i8"
      },
      "execution_count": 22,
      "outputs": []
    },
    {
      "cell_type": "markdown",
      "source": [
        "Load raw data "
      ],
      "metadata": {
        "id": "3jmYO3uWZI88"
      }
    },
    {
      "cell_type": "code",
      "source": [
        "from google.colab import files\n",
        "upload = files.upload()"
      ],
      "metadata": {
        "colab": {
          "base_uri": "https://localhost:8080/",
          "height": 74
        },
        "id": "0am03Ig3NWpa",
        "outputId": "bc727889-4318-432f-9503-fa8d4ce0f7e7"
      },
      "execution_count": 23,
      "outputs": [
        {
          "output_type": "display_data",
          "data": {
            "text/plain": [
              "<IPython.core.display.HTML object>"
            ],
            "text/html": [
              "\n",
              "     <input type=\"file\" id=\"files-c652fcfc-1ce3-461d-aeb3-57320ca0a4f6\" name=\"files[]\" multiple disabled\n",
              "        style=\"border:none\" />\n",
              "     <output id=\"result-c652fcfc-1ce3-461d-aeb3-57320ca0a4f6\">\n",
              "      Upload widget is only available when the cell has been executed in the\n",
              "      current browser session. Please rerun this cell to enable.\n",
              "      </output>\n",
              "      <script>// Copyright 2017 Google LLC\n",
              "//\n",
              "// Licensed under the Apache License, Version 2.0 (the \"License\");\n",
              "// you may not use this file except in compliance with the License.\n",
              "// You may obtain a copy of the License at\n",
              "//\n",
              "//      http://www.apache.org/licenses/LICENSE-2.0\n",
              "//\n",
              "// Unless required by applicable law or agreed to in writing, software\n",
              "// distributed under the License is distributed on an \"AS IS\" BASIS,\n",
              "// WITHOUT WARRANTIES OR CONDITIONS OF ANY KIND, either express or implied.\n",
              "// See the License for the specific language governing permissions and\n",
              "// limitations under the License.\n",
              "\n",
              "/**\n",
              " * @fileoverview Helpers for google.colab Python module.\n",
              " */\n",
              "(function(scope) {\n",
              "function span(text, styleAttributes = {}) {\n",
              "  const element = document.createElement('span');\n",
              "  element.textContent = text;\n",
              "  for (const key of Object.keys(styleAttributes)) {\n",
              "    element.style[key] = styleAttributes[key];\n",
              "  }\n",
              "  return element;\n",
              "}\n",
              "\n",
              "// Max number of bytes which will be uploaded at a time.\n",
              "const MAX_PAYLOAD_SIZE = 100 * 1024;\n",
              "\n",
              "function _uploadFiles(inputId, outputId) {\n",
              "  const steps = uploadFilesStep(inputId, outputId);\n",
              "  const outputElement = document.getElementById(outputId);\n",
              "  // Cache steps on the outputElement to make it available for the next call\n",
              "  // to uploadFilesContinue from Python.\n",
              "  outputElement.steps = steps;\n",
              "\n",
              "  return _uploadFilesContinue(outputId);\n",
              "}\n",
              "\n",
              "// This is roughly an async generator (not supported in the browser yet),\n",
              "// where there are multiple asynchronous steps and the Python side is going\n",
              "// to poll for completion of each step.\n",
              "// This uses a Promise to block the python side on completion of each step,\n",
              "// then passes the result of the previous step as the input to the next step.\n",
              "function _uploadFilesContinue(outputId) {\n",
              "  const outputElement = document.getElementById(outputId);\n",
              "  const steps = outputElement.steps;\n",
              "\n",
              "  const next = steps.next(outputElement.lastPromiseValue);\n",
              "  return Promise.resolve(next.value.promise).then((value) => {\n",
              "    // Cache the last promise value to make it available to the next\n",
              "    // step of the generator.\n",
              "    outputElement.lastPromiseValue = value;\n",
              "    return next.value.response;\n",
              "  });\n",
              "}\n",
              "\n",
              "/**\n",
              " * Generator function which is called between each async step of the upload\n",
              " * process.\n",
              " * @param {string} inputId Element ID of the input file picker element.\n",
              " * @param {string} outputId Element ID of the output display.\n",
              " * @return {!Iterable<!Object>} Iterable of next steps.\n",
              " */\n",
              "function* uploadFilesStep(inputId, outputId) {\n",
              "  const inputElement = document.getElementById(inputId);\n",
              "  inputElement.disabled = false;\n",
              "\n",
              "  const outputElement = document.getElementById(outputId);\n",
              "  outputElement.innerHTML = '';\n",
              "\n",
              "  const pickedPromise = new Promise((resolve) => {\n",
              "    inputElement.addEventListener('change', (e) => {\n",
              "      resolve(e.target.files);\n",
              "    });\n",
              "  });\n",
              "\n",
              "  const cancel = document.createElement('button');\n",
              "  inputElement.parentElement.appendChild(cancel);\n",
              "  cancel.textContent = 'Cancel upload';\n",
              "  const cancelPromise = new Promise((resolve) => {\n",
              "    cancel.onclick = () => {\n",
              "      resolve(null);\n",
              "    };\n",
              "  });\n",
              "\n",
              "  // Wait for the user to pick the files.\n",
              "  const files = yield {\n",
              "    promise: Promise.race([pickedPromise, cancelPromise]),\n",
              "    response: {\n",
              "      action: 'starting',\n",
              "    }\n",
              "  };\n",
              "\n",
              "  cancel.remove();\n",
              "\n",
              "  // Disable the input element since further picks are not allowed.\n",
              "  inputElement.disabled = true;\n",
              "\n",
              "  if (!files) {\n",
              "    return {\n",
              "      response: {\n",
              "        action: 'complete',\n",
              "      }\n",
              "    };\n",
              "  }\n",
              "\n",
              "  for (const file of files) {\n",
              "    const li = document.createElement('li');\n",
              "    li.append(span(file.name, {fontWeight: 'bold'}));\n",
              "    li.append(span(\n",
              "        `(${file.type || 'n/a'}) - ${file.size} bytes, ` +\n",
              "        `last modified: ${\n",
              "            file.lastModifiedDate ? file.lastModifiedDate.toLocaleDateString() :\n",
              "                                    'n/a'} - `));\n",
              "    const percent = span('0% done');\n",
              "    li.appendChild(percent);\n",
              "\n",
              "    outputElement.appendChild(li);\n",
              "\n",
              "    const fileDataPromise = new Promise((resolve) => {\n",
              "      const reader = new FileReader();\n",
              "      reader.onload = (e) => {\n",
              "        resolve(e.target.result);\n",
              "      };\n",
              "      reader.readAsArrayBuffer(file);\n",
              "    });\n",
              "    // Wait for the data to be ready.\n",
              "    let fileData = yield {\n",
              "      promise: fileDataPromise,\n",
              "      response: {\n",
              "        action: 'continue',\n",
              "      }\n",
              "    };\n",
              "\n",
              "    // Use a chunked sending to avoid message size limits. See b/62115660.\n",
              "    let position = 0;\n",
              "    do {\n",
              "      const length = Math.min(fileData.byteLength - position, MAX_PAYLOAD_SIZE);\n",
              "      const chunk = new Uint8Array(fileData, position, length);\n",
              "      position += length;\n",
              "\n",
              "      const base64 = btoa(String.fromCharCode.apply(null, chunk));\n",
              "      yield {\n",
              "        response: {\n",
              "          action: 'append',\n",
              "          file: file.name,\n",
              "          data: base64,\n",
              "        },\n",
              "      };\n",
              "\n",
              "      let percentDone = fileData.byteLength === 0 ?\n",
              "          100 :\n",
              "          Math.round((position / fileData.byteLength) * 100);\n",
              "      percent.textContent = `${percentDone}% done`;\n",
              "\n",
              "    } while (position < fileData.byteLength);\n",
              "  }\n",
              "\n",
              "  // All done.\n",
              "  yield {\n",
              "    response: {\n",
              "      action: 'complete',\n",
              "    }\n",
              "  };\n",
              "}\n",
              "\n",
              "scope.google = scope.google || {};\n",
              "scope.google.colab = scope.google.colab || {};\n",
              "scope.google.colab._files = {\n",
              "  _uploadFiles,\n",
              "  _uploadFilesContinue,\n",
              "};\n",
              "})(self);\n",
              "</script> "
            ]
          },
          "metadata": {}
        },
        {
          "output_type": "stream",
          "name": "stdout",
          "text": [
            "Saving train.csv to train.csv\n"
          ]
        }
      ]
    },
    {
      "cell_type": "code",
      "source": [
        "raw_data = pd.read_csv('train.csv')"
      ],
      "metadata": {
        "id": "bTbDTy9TZVNz"
      },
      "execution_count": 24,
      "outputs": []
    },
    {
      "cell_type": "code",
      "source": [
        "raw_data.date = raw_data.date.apply(lambda x: str(x)[:-3])\n",
        "raw_data = raw_data.groupby('date')['sales'].sum().reset_index()\n",
        "raw_data.date = pd.to_datetime(raw_data.date)"
      ],
      "metadata": {
        "id": "vsEXI0xSjEIu"
      },
      "execution_count": 25,
      "outputs": []
    },
    {
      "cell_type": "code",
      "source": [
        "raw_data.head()"
      ],
      "metadata": {
        "colab": {
          "base_uri": "https://localhost:8080/",
          "height": 206
        },
        "id": "j1hun835jIRt",
        "outputId": "ccd9aa0a-4944-46ae-9e29-c4641250f621"
      },
      "execution_count": 26,
      "outputs": [
        {
          "output_type": "execute_result",
          "data": {
            "text/plain": [
              "        date   sales\n",
              "0 2013-01-01  454904\n",
              "1 2013-02-01  459417\n",
              "2 2013-03-01  617382\n",
              "3 2013-04-01  682274\n",
              "4 2013-05-01  763242"
            ],
            "text/html": [
              "\n",
              "  <div id=\"df-332eee8a-2eab-4859-8bf5-f5d0d9181c6f\">\n",
              "    <div class=\"colab-df-container\">\n",
              "      <div>\n",
              "<style scoped>\n",
              "    .dataframe tbody tr th:only-of-type {\n",
              "        vertical-align: middle;\n",
              "    }\n",
              "\n",
              "    .dataframe tbody tr th {\n",
              "        vertical-align: top;\n",
              "    }\n",
              "\n",
              "    .dataframe thead th {\n",
              "        text-align: right;\n",
              "    }\n",
              "</style>\n",
              "<table border=\"1\" class=\"dataframe\">\n",
              "  <thead>\n",
              "    <tr style=\"text-align: right;\">\n",
              "      <th></th>\n",
              "      <th>date</th>\n",
              "      <th>sales</th>\n",
              "    </tr>\n",
              "  </thead>\n",
              "  <tbody>\n",
              "    <tr>\n",
              "      <th>0</th>\n",
              "      <td>2013-01-01</td>\n",
              "      <td>454904</td>\n",
              "    </tr>\n",
              "    <tr>\n",
              "      <th>1</th>\n",
              "      <td>2013-02-01</td>\n",
              "      <td>459417</td>\n",
              "    </tr>\n",
              "    <tr>\n",
              "      <th>2</th>\n",
              "      <td>2013-03-01</td>\n",
              "      <td>617382</td>\n",
              "    </tr>\n",
              "    <tr>\n",
              "      <th>3</th>\n",
              "      <td>2013-04-01</td>\n",
              "      <td>682274</td>\n",
              "    </tr>\n",
              "    <tr>\n",
              "      <th>4</th>\n",
              "      <td>2013-05-01</td>\n",
              "      <td>763242</td>\n",
              "    </tr>\n",
              "  </tbody>\n",
              "</table>\n",
              "</div>\n",
              "      <button class=\"colab-df-convert\" onclick=\"convertToInteractive('df-332eee8a-2eab-4859-8bf5-f5d0d9181c6f')\"\n",
              "              title=\"Convert this dataframe to an interactive table.\"\n",
              "              style=\"display:none;\">\n",
              "        \n",
              "  <svg xmlns=\"http://www.w3.org/2000/svg\" height=\"24px\"viewBox=\"0 0 24 24\"\n",
              "       width=\"24px\">\n",
              "    <path d=\"M0 0h24v24H0V0z\" fill=\"none\"/>\n",
              "    <path d=\"M18.56 5.44l.94 2.06.94-2.06 2.06-.94-2.06-.94-.94-2.06-.94 2.06-2.06.94zm-11 1L8.5 8.5l.94-2.06 2.06-.94-2.06-.94L8.5 2.5l-.94 2.06-2.06.94zm10 10l.94 2.06.94-2.06 2.06-.94-2.06-.94-.94-2.06-.94 2.06-2.06.94z\"/><path d=\"M17.41 7.96l-1.37-1.37c-.4-.4-.92-.59-1.43-.59-.52 0-1.04.2-1.43.59L10.3 9.45l-7.72 7.72c-.78.78-.78 2.05 0 2.83L4 21.41c.39.39.9.59 1.41.59.51 0 1.02-.2 1.41-.59l7.78-7.78 2.81-2.81c.8-.78.8-2.07 0-2.86zM5.41 20L4 18.59l7.72-7.72 1.47 1.35L5.41 20z\"/>\n",
              "  </svg>\n",
              "      </button>\n",
              "      \n",
              "  <style>\n",
              "    .colab-df-container {\n",
              "      display:flex;\n",
              "      flex-wrap:wrap;\n",
              "      gap: 12px;\n",
              "    }\n",
              "\n",
              "    .colab-df-convert {\n",
              "      background-color: #E8F0FE;\n",
              "      border: none;\n",
              "      border-radius: 50%;\n",
              "      cursor: pointer;\n",
              "      display: none;\n",
              "      fill: #1967D2;\n",
              "      height: 32px;\n",
              "      padding: 0 0 0 0;\n",
              "      width: 32px;\n",
              "    }\n",
              "\n",
              "    .colab-df-convert:hover {\n",
              "      background-color: #E2EBFA;\n",
              "      box-shadow: 0px 1px 2px rgba(60, 64, 67, 0.3), 0px 1px 3px 1px rgba(60, 64, 67, 0.15);\n",
              "      fill: #174EA6;\n",
              "    }\n",
              "\n",
              "    [theme=dark] .colab-df-convert {\n",
              "      background-color: #3B4455;\n",
              "      fill: #D2E3FC;\n",
              "    }\n",
              "\n",
              "    [theme=dark] .colab-df-convert:hover {\n",
              "      background-color: #434B5C;\n",
              "      box-shadow: 0px 1px 3px 1px rgba(0, 0, 0, 0.15);\n",
              "      filter: drop-shadow(0px 1px 2px rgba(0, 0, 0, 0.3));\n",
              "      fill: #FFFFFF;\n",
              "    }\n",
              "  </style>\n",
              "\n",
              "      <script>\n",
              "        const buttonEl =\n",
              "          document.querySelector('#df-332eee8a-2eab-4859-8bf5-f5d0d9181c6f button.colab-df-convert');\n",
              "        buttonEl.style.display =\n",
              "          google.colab.kernel.accessAllowed ? 'block' : 'none';\n",
              "\n",
              "        async function convertToInteractive(key) {\n",
              "          const element = document.querySelector('#df-332eee8a-2eab-4859-8bf5-f5d0d9181c6f');\n",
              "          const dataTable =\n",
              "            await google.colab.kernel.invokeFunction('convertToInteractive',\n",
              "                                                     [key], {});\n",
              "          if (!dataTable) return;\n",
              "\n",
              "          const docLinkHtml = 'Like what you see? Visit the ' +\n",
              "            '<a target=\"_blank\" href=https://colab.research.google.com/notebooks/data_table.ipynb>data table notebook</a>'\n",
              "            + ' to learn more about interactive tables.';\n",
              "          element.innerHTML = '';\n",
              "          dataTable['output_type'] = 'display_data';\n",
              "          await google.colab.output.renderOutput(dataTable, element);\n",
              "          const docLink = document.createElement('div');\n",
              "          docLink.innerHTML = docLinkHtml;\n",
              "          element.appendChild(docLink);\n",
              "        }\n",
              "      </script>\n",
              "    </div>\n",
              "  </div>\n",
              "  "
            ]
          },
          "metadata": {},
          "execution_count": 26
        }
      ]
    },
    {
      "cell_type": "code",
      "source": [
        "raw_data_backup = raw_data.copy()"
      ],
      "metadata": {
        "id": "5UNMM6nYjkhl"
      },
      "execution_count": 27,
      "outputs": []
    },
    {
      "cell_type": "markdown",
      "source": [
        "Prediction function"
      ],
      "metadata": {
        "id": "cZ_L7b5djv9G"
      }
    },
    {
      "cell_type": "code",
      "source": [
        "def prediction_data(unscaled_predictions, raw_data):\n",
        "    # Create dataframe that shows the predicted sales\n",
        "    results = []\n",
        "    sales_dates = list(raw_data[-13:].date)\n",
        "    sales_count = list(raw_data[-13:].sales)\n",
        "    \n",
        "    for index in range(0,len(unscaled_predictions)):\n",
        "        prediction = {}\n",
        "        prediction['pred_value'] = int(\n",
        "            unscaled_predictions[index][0] + sales_count[index])\n",
        "        prediction['date'] = sales_dates[index+1]\n",
        "        results.append(prediction)\n",
        "    \n",
        "    return pd.DataFrame(results)"
      ],
      "metadata": {
        "id": "25-O9Jh-jpN1"
      },
      "execution_count": 28,
      "outputs": []
    },
    {
      "cell_type": "markdown",
      "source": [
        "Store each models scores in score dictionary"
      ],
      "metadata": {
        "id": "kx2lSaVzlUB2"
      }
    },
    {
      "cell_type": "code",
      "source": [
        "scores = {}"
      ],
      "metadata": {
        "id": "gCmtnK1ikuNc"
      },
      "execution_count": 29,
      "outputs": []
    },
    {
      "cell_type": "markdown",
      "source": [
        "Function to get score for each model"
      ],
      "metadata": {
        "id": "kcf-7ylbllj_"
      }
    },
    {
      "cell_type": "code",
      "source": [
        "def get_model_scores(unscaled_data, raw_data, model_name):\n",
        "    rmse = np.sqrt(\n",
        "        mean_squared_error(raw_data.sales[-12:], \n",
        "                           unscaled_data.pred_value[-12:]))\n",
        "    mae = mean_absolute_error(\n",
        "        raw_data.sales[-12:], \n",
        "        unscaled_data.pred_value[-12:])\n",
        "    r2 = r2_score(raw_data.sales[-12:], unscaled_data.pred_value[-12:])\n",
        "    \n",
        "    scores[model_name] = {\n",
        "        \"rmse\": rmse,\n",
        "        \"mae\": mae,\n",
        "        \"r2\": r2\n",
        "    }\n",
        "\n",
        "    print(\"Model score : \", scores[model_name])"
      ],
      "metadata": {
        "id": "-D-w7k_PlcMM"
      },
      "execution_count": 30,
      "outputs": []
    },
    {
      "cell_type": "markdown",
      "source": [
        "Plot model results"
      ],
      "metadata": {
        "id": "M2DfaPC2moAy"
      }
    },
    {
      "cell_type": "code",
      "source": [
        "def plot_predictions(predictions, original_df, model_name):\n",
        "\n",
        "    fig, axis = plt.subplots(figsize=(15,5))\n",
        "    sns.lineplot(original_df.date, original_df.sales, \n",
        "                 data=original_df, ax=axis, \n",
        "                 label='Original', color='green')\n",
        "    sns.lineplot(predictions.date, predictions.pred_value, \n",
        "                 data=predictions, ax=axis, \n",
        "                 label='Predicted', color='Red')\n",
        "    \n",
        "    axis.set(xlabel = \"Date\",\n",
        "           ylabel = \"Sales\",\n",
        "           title = f\"{model_name} Sales Forecasting Prediction\")\n",
        "    \n",
        "    axis.legend()\n",
        "    \n",
        "    sns.despine()\n",
        "    \n",
        "    plt.savefig(f'output/{model_name}_forecast.png')"
      ],
      "metadata": {
        "id": "kr6IuXfCmkJ-"
      },
      "execution_count": 31,
      "outputs": []
    },
    {
      "cell_type": "markdown",
      "source": [
        "Model executor"
      ],
      "metadata": {
        "id": "Xr1f3sREnSbf"
      }
    },
    {
      "cell_type": "code",
      "source": [
        "def exec_model(train_data, test_data, model, model_name):\n",
        "    \n",
        "    X_train, y_train, X_test, y_test, scaler_object = apply_scale(\n",
        "        train_data, test_data)\n",
        "    \n",
        "    model.fit(X_train, y_train)\n",
        "    predictions = model.predict(X_test)\n",
        "    \n",
        "    # Undo scaling to compare predictions against original data\n",
        "    temp_data = raw_data.copy()\n",
        "    unscaled = undo_scale(predictions, X_test, scaler_object)\n",
        "    unscaled_df = prediction_data(unscaled, temp_data)\n",
        "    \n",
        "    get_model_scores(unscaled_df, temp_data, model_name)\n",
        "\n",
        "    plot_predictions(unscaled_df, temp_data, model_name)"
      ],
      "metadata": {
        "id": "CieAc-DVnOvz"
      },
      "execution_count": 32,
      "outputs": []
    },
    {
      "cell_type": "markdown",
      "source": [
        "## **Linear regression**"
      ],
      "metadata": {
        "id": "Nim_Q8_boTUL"
      }
    },
    {
      "cell_type": "code",
      "source": [
        "exec_model(train, test, LinearRegression(), 'LinearRegression')"
      ],
      "metadata": {
        "colab": {
          "base_uri": "https://localhost:8080/",
          "height": 377
        },
        "id": "Ku1m92aToP4z",
        "outputId": "2ebc8be7-f616-4cdf-ef45-378be38f7428"
      },
      "execution_count": 35,
      "outputs": [
        {
          "output_type": "stream",
          "name": "stdout",
          "text": [
            "Model score :  {'rmse': 16221.040790693221, 'mae': 12433.0, 'r2': 0.9907155879704752}\n"
          ]
        },
        {
          "output_type": "stream",
          "name": "stderr",
          "text": [
            "/usr/local/lib/python3.7/dist-packages/seaborn/_decorators.py:43: FutureWarning: Pass the following variables as keyword args: x, y. From version 0.12, the only valid positional argument will be `data`, and passing other arguments without an explicit keyword will result in an error or misinterpretation.\n",
            "  FutureWarning\n",
            "/usr/local/lib/python3.7/dist-packages/seaborn/_decorators.py:43: FutureWarning: Pass the following variables as keyword args: x, y. From version 0.12, the only valid positional argument will be `data`, and passing other arguments without an explicit keyword will result in an error or misinterpretation.\n",
            "  FutureWarning\n"
          ]
        },
        {
          "output_type": "display_data",
          "data": {
            "text/plain": [
              "<Figure size 1080x360 with 1 Axes>"
            ],
            "image/png": "[encoded data removed]"
          },
          "metadata": {
            "needs_background": "light"
          }
        }
      ]
    },
    {
      "cell_type": "markdown",
      "source": [
        "## **Random Forest**"
      ],
      "metadata": {
        "id": "EV3dHYt5oRui"
      }
    },
    {
      "cell_type": "code",
      "source": [
        "exec_model(train, test, RandomForestRegressor(n_estimators=100, max_depth=20), \n",
        "          'RandomForest')"
      ],
      "metadata": {
        "colab": {
          "base_uri": "https://localhost:8080/",
          "height": 377
        },
        "id": "s8PFPqyEo3ry",
        "outputId": "1e433f0f-78e1-4dbf-8acc-38fd17c9e59e"
      },
      "execution_count": 36,
      "outputs": [
        {
          "output_type": "stream",
          "name": "stdout",
          "text": [
            "Model score :  {'rmse': 19612.805043304405, 'mae': 16511.0, 'r2': 0.9864269829234903}\n"
          ]
        },
        {
          "output_type": "stream",
          "name": "stderr",
          "text": [
            "/usr/local/lib/python3.7/dist-packages/seaborn/_decorators.py:43: FutureWarning: Pass the following variables as keyword args: x, y. From version 0.12, the only valid positional argument will be `data`, and passing other arguments without an explicit keyword will result in an error or misinterpretation.\n",
            "  FutureWarning\n",
            "/usr/local/lib/python3.7/dist-packages/seaborn/_decorators.py:43: FutureWarning: Pass the following variables as keyword args: x, y. From version 0.12, the only valid positional argument will be `data`, and passing other arguments without an explicit keyword will result in an error or misinterpretation.\n",
            "  FutureWarning\n"
          ]
        },
        {
          "output_type": "display_data",
          "data": {
            "text/plain": [
              "<Figure size 1080x360 with 1 Axes>"
            ],
            "image/png": "[encoded data removed]"
          },
          "metadata": {
            "needs_background": "light"
          }
        }
      ]
    },
    {
      "cell_type": "markdown",
      "source": [
        "## **XGBoost**"
      ],
      "metadata": {
        "id": "sVyNmPw3pGM6"
      }
    },
    {
      "cell_type": "code",
      "source": [
        "exec_model(train, test, XGBRegressor( n_estimators=100, \n",
        "                                    learning_rate=0.2, \n",
        "                                    objective='reg:squarederror'), 'XGBoost')"
      ],
      "metadata": {
        "colab": {
          "base_uri": "https://localhost:8080/",
          "height": 377
        },
        "id": "lAROsq9oo8_K",
        "outputId": "8502abc3-6b89-46a2-c2e6-14d0625457ca"
      },
      "execution_count": 42,
      "outputs": [
        {
          "output_type": "stream",
          "name": "stdout",
          "text": [
            "Model score :  {'rmse': 13574.792631933646, 'mae': 11649.666666666666, 'r2': 0.9934977542289017}\n"
          ]
        },
        {
          "output_type": "stream",
          "name": "stderr",
          "text": [
            "/usr/local/lib/python3.7/dist-packages/seaborn/_decorators.py:43: FutureWarning: Pass the following variables as keyword args: x, y. From version 0.12, the only valid positional argument will be `data`, and passing other arguments without an explicit keyword will result in an error or misinterpretation.\n",
            "  FutureWarning\n",
            "/usr/local/lib/python3.7/dist-packages/seaborn/_decorators.py:43: FutureWarning: Pass the following variables as keyword args: x, y. From version 0.12, the only valid positional argument will be `data`, and passing other arguments without an explicit keyword will result in an error or misinterpretation.\n",
            "  FutureWarning\n"
          ]
        },
        {
          "output_type": "display_data",
          "data": {
            "text/plain": [
              "<Figure size 1080x360 with 1 Axes>"
            ],
            "image/png": "[encoded data removed]"
          },
          "metadata": {
            "needs_background": "light"
          }
        }
      ]
    },
    {
      "cell_type": "markdown",
      "source": [
        "## **LSTM**"
      ],
      "metadata": {
        "id": "Sb43EXceSkjz"
      }
    },
    {
      "cell_type": "code",
      "source": [
        "def lstm_model(train_data, test_data):\n",
        "    \n",
        "    X_train, y_train, X_test, y_test, scaler_object = apply_scale(\n",
        "        train_data, test_data)\n",
        "    \n",
        "    X_train = X_train.reshape(X_train.shape[0], 1, X_train.shape[1])\n",
        "    X_test = X_test.reshape(X_test.shape[0], 1, X_test.shape[1])\n",
        "   \n",
        "    model = Sequential()\n",
        "    model.add(LSTM(4, batch_input_shape=(1, X_train.shape[1], X_train.shape[2]), \n",
        "                   stateful=True))\n",
        "    model.add(Dense(1))\n",
        "    model.add(Dense(1))\n",
        "    model.compile(loss='mean_squared_error', optimizer='adam')\n",
        "    model.fit(X_train, y_train, epochs=200, batch_size=1, verbose=1, \n",
        "              shuffle=False)\n",
        "    predictions = model.predict(X_test,batch_size=1)\n",
        "    \n",
        "    temp_data = raw_data_backup.copy()\n",
        "    unscaled = undo_scale(predictions, X_test, scaler_object, lstm=True)\n",
        "    unscaled_data = prediction_data(unscaled, temp_data)\n",
        "    \n",
        "    get_model_scores(unscaled_data, temp_data, 'LSTM')\n",
        "    \n",
        "    plot_predictions(unscaled_data, temp_data, 'LSTM')"
      ],
      "metadata": {
        "id": "6yx5LzVSpK7D"
      },
      "execution_count": 43,
      "outputs": []
    },
    {
      "cell_type": "code",
      "source": [
        "lstm_model(train, test)"
      ],
      "metadata": {
        "colab": {
          "base_uri": "https://localhost:8080/",
          "height": 1000
        },
        "id": "Sd4SUMebTJet",
        "outputId": "9e1ad3c9-6286-43a4-f74d-f8a54e4b43d8"
      },
      "execution_count": 44,
      "outputs": [
        {
          "output_type": "stream",
          "name": "stdout",
          "text": [
            "Epoch 1/200\n",
            "35/35 [==============================] - 2s 2ms/step - loss: 0.1536\n",
            "Epoch 2/200\n",
            "35/35 [==============================] - 0s 2ms/step - loss: 0.1529\n",
            "Epoch 3/200\n",
            "35/35 [==============================] - 0s 2ms/step - loss: 0.1372\n",
            "Epoch 4/200\n",
            "35/35 [==============================] - 0s 2ms/step - loss: 0.1259\n",
            "Epoch 5/200\n",
            "35/35 [==============================] - 0s 2ms/step - loss: 0.1165\n",
            "Epoch 6/200\n",
            "35/35 [==============================] - 0s 2ms/step - loss: 0.1081\n",
            "Epoch 7/200\n",
            "35/35 [==============================] - 0s 2ms/step - loss: 0.1004\n",
            "Epoch 8/200\n",
            "35/35 [==============================] - 0s 2ms/step - loss: 0.0933\n",
            "Epoch 9/200\n",
            "35/35 [==============================] - 0s 2ms/step - loss: 0.0866\n",
            "Epoch 10/200\n",
            "35/35 [==============================] - 0s 2ms/step - loss: 0.0805\n",
            "Epoch 11/200\n",
            "35/35 [==============================] - 0s 2ms/step - loss: 0.0747\n",
            "Epoch 12/200\n",
            "35/35 [==============================] - 0s 2ms/step - loss: 0.0692\n",
            "Epoch 13/200\n",
            "35/35 [==============================] - 0s 2ms/step - loss: 0.0642\n",
            "Epoch 14/200\n",
            "35/35 [==============================] - 0s 2ms/step - loss: 0.0594\n",
            "Epoch 15/200\n",
            "35/35 [==============================] - 0s 2ms/step - loss: 0.0550\n",
            "Epoch 16/200\n",
            "35/35 [==============================] - 0s 2ms/step - loss: 0.0509\n",
            "Epoch 17/200\n",
            "35/35 [==============================] - 0s 2ms/step - loss: 0.0470\n",
            "Epoch 18/200\n",
            "35/35 [==============================] - 0s 2ms/step - loss: 0.0434\n",
            "Epoch 19/200\n",
            "35/35 [==============================] - 0s 2ms/step - loss: 0.0401\n",
            "Epoch 20/200\n",
            "35/35 [==============================] - 0s 2ms/step - loss: 0.0370\n",
            "Epoch 21/200\n",
            "35/35 [==============================] - 0s 2ms/step - loss: 0.0342\n",
            "Epoch 22/200\n",
            "35/35 [==============================] - 0s 2ms/step - loss: 0.0316\n",
            "Epoch 23/200\n",
            "35/35 [==============================] - 0s 2ms/step - loss: 0.0291\n",
            "Epoch 24/200\n",
            "35/35 [==============================] - 0s 2ms/step - loss: 0.0269\n",
            "Epoch 25/200\n",
            "35/35 [==============================] - 0s 2ms/step - loss: 0.0249\n",
            "Epoch 26/200\n",
            "35/35 [==============================] - 0s 2ms/step - loss: 0.0231\n",
            "Epoch 27/200\n",
            "35/35 [==============================] - 0s 2ms/step - loss: 0.0214\n",
            "Epoch 28/200\n",
            "35/35 [==============================] - 0s 2ms/step - loss: 0.0198\n",
            "Epoch 29/200\n",
            "35/35 [==============================] - 0s 2ms/step - loss: 0.0185\n",
            "Epoch 30/200\n",
            "35/35 [==============================] - 0s 2ms/step - loss: 0.0172\n",
            "Epoch 31/200\n",
            "35/35 [==============================] - 0s 2ms/step - loss: 0.0161\n",
            "Epoch 32/200\n",
            "35/35 [==============================] - 0s 2ms/step - loss: 0.0150\n",
            "Epoch 33/200\n",
            "35/35 [==============================] - 0s 2ms/step - loss: 0.0141\n",
            "Epoch 34/200\n",
            "35/35 [==============================] - 0s 2ms/step - loss: 0.0133\n",
            "Epoch 35/200\n",
            "35/35 [==============================] - 0s 2ms/step - loss: 0.0125\n",
            "Epoch 36/200\n",
            "35/35 [==============================] - 0s 2ms/step - loss: 0.0118\n",
            "Epoch 37/200\n",
            "35/35 [==============================] - 0s 2ms/step - loss: 0.0111\n",
            "Epoch 38/200\n",
            "35/35 [==============================] - 0s 2ms/step - loss: 0.0106\n",
            "Epoch 39/200\n",
            "35/35 [==============================] - 0s 2ms/step - loss: 0.0100\n",
            "Epoch 40/200\n",
            "35/35 [==============================] - 0s 2ms/step - loss: 0.0096\n",
            "Epoch 41/200\n",
            "35/35 [==============================] - 0s 2ms/step - loss: 0.0091\n",
            "Epoch 42/200\n",
            "35/35 [==============================] - 0s 2ms/step - loss: 0.0087\n",
            "Epoch 43/200\n",
            "35/35 [==============================] - 0s 2ms/step - loss: 0.0084\n",
            "Epoch 44/200\n",
            "35/35 [==============================] - 0s 2ms/step - loss: 0.0080\n",
            "Epoch 45/200\n",
            "35/35 [==============================] - 0s 2ms/step - loss: 0.0077\n",
            "Epoch 46/200\n",
            "35/35 [==============================] - 0s 2ms/step - loss: 0.0074\n",
            "Epoch 47/200\n",
            "35/35 [==============================] - 0s 2ms/step - loss: 0.0072\n",
            "Epoch 48/200\n",
            "35/35 [==============================] - 0s 2ms/step - loss: 0.0069\n",
            "Epoch 49/200\n",
            "35/35 [==============================] - 0s 2ms/step - loss: 0.0067\n",
            "Epoch 50/200\n",
            "35/35 [==============================] - 0s 2ms/step - loss: 0.0065\n",
            "Epoch 51/200\n",
            "35/35 [==============================] - 0s 2ms/step - loss: 0.0063\n",
            "Epoch 52/200\n",
            "35/35 [==============================] - 0s 2ms/step - loss: 0.0061\n",
            "Epoch 53/200\n",
            "35/35 [==============================] - 0s 2ms/step - loss: 0.0060\n",
            "Epoch 54/200\n",
            "35/35 [==============================] - 0s 2ms/step - loss: 0.0058\n",
            "Epoch 55/200\n",
            "35/35 [==============================] - 0s 2ms/step - loss: 0.0057\n",
            "Epoch 56/200\n",
            "35/35 [==============================] - 0s 2ms/step - loss: 0.0055\n",
            "Epoch 57/200\n",
            "35/35 [==============================] - 0s 2ms/step - loss: 0.0054\n",
            "Epoch 58/200\n",
            "35/35 [==============================] - 0s 2ms/step - loss: 0.0053\n",
            "Epoch 59/200\n",
            "35/35 [==============================] - 0s 2ms/step - loss: 0.0051\n",
            "Epoch 60/200\n",
            "35/35 [==============================] - 0s 2ms/step - loss: 0.0050\n",
            "Epoch 61/200\n",
            "35/35 [==============================] - 0s 2ms/step - loss: 0.0049\n",
            "Epoch 62/200\n",
            "35/35 [==============================] - 0s 2ms/step - loss: 0.0048\n",
            "Epoch 63/200\n",
            "35/35 [==============================] - 0s 2ms/step - loss: 0.0047\n",
            "Epoch 64/200\n",
            "35/35 [==============================] - 0s 2ms/step - loss: 0.0046\n",
            "Epoch 65/200\n",
            "35/35 [==============================] - 0s 2ms/step - loss: 0.0045\n",
            "Epoch 66/200\n",
            "35/35 [==============================] - 0s 2ms/step - loss: 0.0044\n",
            "Epoch 67/200\n",
            "35/35 [==============================] - 0s 2ms/step - loss: 0.0044\n",
            "Epoch 68/200\n",
            "35/35 [==============================] - 0s 2ms/step - loss: 0.0043\n",
            "Epoch 69/200\n",
            "35/35 [==============================] - 0s 2ms/step - loss: 0.0042\n",
            "Epoch 70/200\n",
            "35/35 [==============================] - 0s 2ms/step - loss: 0.0041\n",
            "Epoch 71/200\n",
            "35/35 [==============================] - 0s 2ms/step - loss: 0.0041\n",
            "Epoch 72/200\n",
            "35/35 [==============================] - 0s 2ms/step - loss: 0.0040\n",
            "Epoch 73/200\n",
            "35/35 [==============================] - 0s 2ms/step - loss: 0.0039\n",
            "Epoch 74/200\n",
            "35/35 [==============================] - 0s 2ms/step - loss: 0.0039\n",
            "Epoch 75/200\n",
            "35/35 [==============================] - 0s 2ms/step - loss: 0.0038\n",
            "Epoch 76/200\n",
            "35/35 [==============================] - 0s 2ms/step - loss: 0.0038\n",
            "Epoch 77/200\n",
            "35/35 [==============================] - 0s 2ms/step - loss: 0.0037\n",
            "Epoch 78/200\n",
            "35/35 [==============================] - 0s 2ms/step - loss: 0.0037\n",
            "Epoch 79/200\n",
            "35/35 [==============================] - 0s 2ms/step - loss: 0.0036\n",
            "Epoch 80/200\n",
            "35/35 [==============================] - 0s 2ms/step - loss: 0.0036\n",
            "Epoch 81/200\n",
            "35/35 [==============================] - 0s 2ms/step - loss: 0.0035\n",
            "Epoch 82/200\n",
            "35/35 [==============================] - 0s 2ms/step - loss: 0.0035\n",
            "Epoch 83/200\n",
            "35/35 [==============================] - 0s 2ms/step - loss: 0.0034\n",
            "Epoch 84/200\n",
            "35/35 [==============================] - 0s 2ms/step - loss: 0.0034\n",
            "Epoch 85/200\n",
            "35/35 [==============================] - 0s 2ms/step - loss: 0.0033\n",
            "Epoch 86/200\n",
            "35/35 [==============================] - 0s 2ms/step - loss: 0.0033\n",
            "Epoch 87/200\n",
            "35/35 [==============================] - 0s 2ms/step - loss: 0.0033\n",
            "Epoch 88/200\n",
            "35/35 [==============================] - 0s 2ms/step - loss: 0.0032\n",
            "Epoch 89/200\n",
            "35/35 [==============================] - 0s 2ms/step - loss: 0.0032\n",
            "Epoch 90/200\n",
            "35/35 [==============================] - 0s 2ms/step - loss: 0.0031\n",
            "Epoch 91/200\n",
            "35/35 [==============================] - 0s 2ms/step - loss: 0.0031\n",
            "Epoch 92/200\n",
            "35/35 [==============================] - 0s 2ms/step - loss: 0.0031\n",
            "Epoch 93/200\n",
            "35/35 [==============================] - 0s 2ms/step - loss: 0.0031\n",
            "Epoch 94/200\n",
            "35/35 [==============================] - 0s 2ms/step - loss: 0.0030\n",
            "Epoch 95/200\n",
            "35/35 [==============================] - 0s 2ms/step - loss: 0.0030\n",
            "Epoch 96/200\n",
            "35/35 [==============================] - 0s 2ms/step - loss: 0.0030\n",
            "Epoch 97/200\n",
            "35/35 [==============================] - 0s 2ms/step - loss: 0.0029\n",
            "Epoch 98/200\n",
            "35/35 [==============================] - 0s 2ms/step - loss: 0.0029\n",
            "Epoch 99/200\n",
            "35/35 [==============================] - 0s 2ms/step - loss: 0.0029\n",
            "Epoch 100/200\n",
            "35/35 [==============================] - 0s 2ms/step - loss: 0.0029\n",
            "Epoch 101/200\n",
            "35/35 [==============================] - 0s 2ms/step - loss: 0.0028\n",
            "Epoch 102/200\n",
            "35/35 [==============================] - 0s 2ms/step - loss: 0.0028\n",
            "Epoch 103/200\n",
            "35/35 [==============================] - 0s 2ms/step - loss: 0.0028\n",
            "Epoch 104/200\n",
            "35/35 [==============================] - 0s 2ms/step - loss: 0.0028\n",
            "Epoch 105/200\n",
            "35/35 [==============================] - 0s 2ms/step - loss: 0.0028\n",
            "Epoch 106/200\n",
            "35/35 [==============================] - 0s 2ms/step - loss: 0.0027\n",
            "Epoch 107/200\n",
            "35/35 [==============================] - 0s 2ms/step - loss: 0.0027\n",
            "Epoch 108/200\n",
            "35/35 [==============================] - 0s 2ms/step - loss: 0.0027\n",
            "Epoch 109/200\n",
            "35/35 [==============================] - 0s 2ms/step - loss: 0.0027\n",
            "Epoch 110/200\n",
            "35/35 [==============================] - 0s 2ms/step - loss: 0.0027\n",
            "Epoch 111/200\n",
            "35/35 [==============================] - 0s 2ms/step - loss: 0.0026\n",
            "Epoch 112/200\n",
            "35/35 [==============================] - 0s 2ms/step - loss: 0.0026\n",
            "Epoch 113/200\n",
            "35/35 [==============================] - 0s 2ms/step - loss: 0.0026\n",
            "Epoch 114/200\n",
            "35/35 [==============================] - 0s 3ms/step - loss: 0.0026\n",
            "Epoch 115/200\n",
            "35/35 [==============================] - 0s 2ms/step - loss: 0.0026\n",
            "Epoch 116/200\n",
            "35/35 [==============================] - 0s 2ms/step - loss: 0.0026\n",
            "Epoch 117/200\n",
            "35/35 [==============================] - 0s 2ms/step - loss: 0.0025\n",
            "Epoch 118/200\n",
            "35/35 [==============================] - 0s 2ms/step - loss: 0.0025\n",
            "Epoch 119/200\n",
            "35/35 [==============================] - 0s 2ms/step - loss: 0.0025\n",
            "Epoch 120/200\n",
            "35/35 [==============================] - 0s 2ms/step - loss: 0.0025\n",
            "Epoch 121/200\n",
            "35/35 [==============================] - 0s 2ms/step - loss: 0.0025\n",
            "Epoch 122/200\n",
            "35/35 [==============================] - 0s 2ms/step - loss: 0.0025\n",
            "Epoch 123/200\n",
            "35/35 [==============================] - 0s 2ms/step - loss: 0.0024\n",
            "Epoch 124/200\n",
            "35/35 [==============================] - 0s 2ms/step - loss: 0.0024\n",
            "Epoch 125/200\n",
            "35/35 [==============================] - 0s 2ms/step - loss: 0.0024\n",
            "Epoch 126/200\n",
            "35/35 [==============================] - 0s 2ms/step - loss: 0.0024\n",
            "Epoch 127/200\n",
            "35/35 [==============================] - 0s 2ms/step - loss: 0.0024\n",
            "Epoch 128/200\n",
            "35/35 [==============================] - 0s 2ms/step - loss: 0.0024\n",
            "Epoch 129/200\n",
            "35/35 [==============================] - 0s 2ms/step - loss: 0.0024\n",
            "Epoch 130/200\n",
            "35/35 [==============================] - 0s 2ms/step - loss: 0.0024\n",
            "Epoch 131/200\n",
            "35/35 [==============================] - 0s 2ms/step - loss: 0.0023\n",
            "Epoch 132/200\n",
            "35/35 [==============================] - 0s 2ms/step - loss: 0.0023\n",
            "Epoch 133/200\n",
            "35/35 [==============================] - 0s 2ms/step - loss: 0.0023\n",
            "Epoch 134/200\n",
            "35/35 [==============================] - 0s 2ms/step - loss: 0.0023\n",
            "Epoch 135/200\n",
            "35/35 [==============================] - 0s 2ms/step - loss: 0.0023\n",
            "Epoch 136/200\n",
            "35/35 [==============================] - 0s 2ms/step - loss: 0.0023\n",
            "Epoch 137/200\n",
            "35/35 [==============================] - 0s 2ms/step - loss: 0.0023\n",
            "Epoch 138/200\n",
            "35/35 [==============================] - 0s 2ms/step - loss: 0.0023\n",
            "Epoch 139/200\n",
            "35/35 [==============================] - 0s 2ms/step - loss: 0.0023\n",
            "Epoch 140/200\n",
            "35/35 [==============================] - 0s 2ms/step - loss: 0.0022\n",
            "Epoch 141/200\n",
            "35/35 [==============================] - 0s 2ms/step - loss: 0.0022\n",
            "Epoch 142/200\n",
            "35/35 [==============================] - 0s 2ms/step - loss: 0.0022\n",
            "Epoch 143/200\n",
            "35/35 [==============================] - 0s 2ms/step - loss: 0.0022\n",
            "Epoch 144/200\n",
            "35/35 [==============================] - 0s 2ms/step - loss: 0.0022\n",
            "Epoch 145/200\n",
            "35/35 [==============================] - 0s 2ms/step - loss: 0.0022\n",
            "Epoch 146/200\n",
            "35/35 [==============================] - 0s 2ms/step - loss: 0.0022\n",
            "Epoch 147/200\n",
            "35/35 [==============================] - 0s 2ms/step - loss: 0.0022\n",
            "Epoch 148/200\n",
            "35/35 [==============================] - 0s 2ms/step - loss: 0.0022\n",
            "Epoch 149/200\n",
            "35/35 [==============================] - 0s 2ms/step - loss: 0.0022\n",
            "Epoch 150/200\n",
            "35/35 [==============================] - 0s 2ms/step - loss: 0.0021\n",
            "Epoch 151/200\n",
            "35/35 [==============================] - 0s 2ms/step - loss: 0.0021\n",
            "Epoch 152/200\n",
            "35/35 [==============================] - 0s 2ms/step - loss: 0.0021\n",
            "Epoch 153/200\n",
            "35/35 [==============================] - 0s 2ms/step - loss: 0.0021\n",
            "Epoch 154/200\n",
            "35/35 [==============================] - 0s 2ms/step - loss: 0.0021\n",
            "Epoch 155/200\n",
            "35/35 [==============================] - 0s 2ms/step - loss: 0.0021\n",
            "Epoch 156/200\n",
            "35/35 [==============================] - 0s 2ms/step - loss: 0.0021\n",
            "Epoch 157/200\n",
            "35/35 [==============================] - 0s 2ms/step - loss: 0.0021\n",
            "Epoch 158/200\n",
            "35/35 [==============================] - 0s 2ms/step - loss: 0.0021\n",
            "Epoch 159/200\n",
            "35/35 [==============================] - 0s 2ms/step - loss: 0.0021\n",
            "Epoch 160/200\n",
            "35/35 [==============================] - 0s 2ms/step - loss: 0.0020\n",
            "Epoch 161/200\n",
            "35/35 [==============================] - 0s 2ms/step - loss: 0.0020\n",
            "Epoch 162/200\n",
            "35/35 [==============================] - 0s 2ms/step - loss: 0.0020\n",
            "Epoch 163/200\n",
            "35/35 [==============================] - 0s 2ms/step - loss: 0.0020\n",
            "Epoch 164/200\n",
            "35/35 [==============================] - 0s 2ms/step - loss: 0.0020\n",
            "Epoch 165/200\n",
            "35/35 [==============================] - 0s 2ms/step - loss: 0.0020\n",
            "Epoch 166/200\n",
            "35/35 [==============================] - 0s 2ms/step - loss: 0.0020\n",
            "Epoch 167/200\n",
            "35/35 [==============================] - 0s 2ms/step - loss: 0.0020\n",
            "Epoch 168/200\n",
            "35/35 [==============================] - 0s 2ms/step - loss: 0.0020\n",
            "Epoch 169/200\n",
            "35/35 [==============================] - 0s 2ms/step - loss: 0.0020\n",
            "Epoch 170/200\n",
            "35/35 [==============================] - 0s 2ms/step - loss: 0.0019\n",
            "Epoch 171/200\n",
            "35/35 [==============================] - 0s 2ms/step - loss: 0.0019\n",
            "Epoch 172/200\n",
            "35/35 [==============================] - 0s 2ms/step - loss: 0.0019\n",
            "Epoch 173/200\n",
            "35/35 [==============================] - 0s 2ms/step - loss: 0.0019\n",
            "Epoch 174/200\n",
            "35/35 [==============================] - 0s 2ms/step - loss: 0.0019\n",
            "Epoch 175/200\n",
            "35/35 [==============================] - 0s 2ms/step - loss: 0.0019\n",
            "Epoch 176/200\n",
            "35/35 [==============================] - 0s 2ms/step - loss: 0.0019\n",
            "Epoch 177/200\n",
            "35/35 [==============================] - 0s 2ms/step - loss: 0.0019\n",
            "Epoch 178/200\n",
            "35/35 [==============================] - 0s 2ms/step - loss: 0.0019\n",
            "Epoch 179/200\n",
            "35/35 [==============================] - 0s 2ms/step - loss: 0.0019\n",
            "Epoch 180/200\n",
            "35/35 [==============================] - 0s 2ms/step - loss: 0.0019\n",
            "Epoch 181/200\n",
            "35/35 [==============================] - 0s 2ms/step - loss: 0.0018\n",
            "Epoch 182/200\n",
            "35/35 [==============================] - 0s 2ms/step - loss: 0.0018\n",
            "Epoch 183/200\n",
            "35/35 [==============================] - 0s 2ms/step - loss: 0.0018\n",
            "Epoch 184/200\n",
            "35/35 [==============================] - 0s 2ms/step - loss: 0.0018\n",
            "Epoch 185/200\n",
            "35/35 [==============================] - 0s 2ms/step - loss: 0.0018\n",
            "Epoch 186/200\n",
            "35/35 [==============================] - 0s 2ms/step - loss: 0.0018\n",
            "Epoch 187/200\n",
            "35/35 [==============================] - 0s 2ms/step - loss: 0.0018\n",
            "Epoch 188/200\n",
            "35/35 [==============================] - 0s 3ms/step - loss: 0.0018\n",
            "Epoch 189/200\n",
            "35/35 [==============================] - 0s 2ms/step - loss: 0.0018\n",
            "Epoch 190/200\n",
            "35/35 [==============================] - 0s 2ms/step - loss: 0.0018\n",
            "Epoch 191/200\n",
            "35/35 [==============================] - 0s 2ms/step - loss: 0.0018\n",
            "Epoch 192/200\n",
            "35/35 [==============================] - 0s 2ms/step - loss: 0.0018\n",
            "Epoch 193/200\n",
            "35/35 [==============================] - 0s 2ms/step - loss: 0.0017\n",
            "Epoch 194/200\n",
            "35/35 [==============================] - 0s 2ms/step - loss: 0.0017\n",
            "Epoch 195/200\n",
            "35/35 [==============================] - 0s 2ms/step - loss: 0.0017\n",
            "Epoch 196/200\n",
            "35/35 [==============================] - 0s 2ms/step - loss: 0.0017\n",
            "Epoch 197/200\n",
            "35/35 [==============================] - 0s 2ms/step - loss: 0.0017\n",
            "Epoch 198/200\n",
            "35/35 [==============================] - 0s 2ms/step - loss: 0.0017\n",
            "Epoch 199/200\n",
            "35/35 [==============================] - 0s 2ms/step - loss: 0.0017\n",
            "Epoch 200/200\n",
            "35/35 [==============================] - 0s 2ms/step - loss: 0.0017\n",
            "Model score :  {'rmse': 17647.13227647295, 'mae': 13217.25, 'r2': 0.989011326874836}\n"
          ]
        },
        {
          "output_type": "stream",
          "name": "stderr",
          "text": [
            "/usr/local/lib/python3.7/dist-packages/seaborn/_decorators.py:43: FutureWarning: Pass the following variables as keyword args: x, y. From version 0.12, the only valid positional argument will be `data`, and passing other arguments without an explicit keyword will result in an error or misinterpretation.\n",
            "  FutureWarning\n",
            "/usr/local/lib/python3.7/dist-packages/seaborn/_decorators.py:43: FutureWarning: Pass the following variables as keyword args: x, y. From version 0.12, the only valid positional argument will be `data`, and passing other arguments without an explicit keyword will result in an error or misinterpretation.\n",
            "  FutureWarning\n"
          ]
        },
        {
          "output_type": "display_data",
          "data": {
            "text/plain": [
              "<Figure size 1080x360 with 1 Axes>"
            ],
            "image/png": "[encoded data removed]"
          },
          "metadata": {
            "needs_background": "light"
          }
        }
      ]
    },
    {
      "cell_type": "code",
      "source": [
        "pickle.dump(scores, open( \"scores.p\", \"wb\" ) )"
      ],
      "metadata": {
        "id": "BbGKxN6cTL12"
      },
      "execution_count": 45,
      "outputs": []
    },
    {
      "cell_type": "code",
      "source": [],
      "metadata": {
        "id": "FWeTcuKZW4Ts"
      },
      "execution_count": null,
      "outputs": []
    }
  ]
}